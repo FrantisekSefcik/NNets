{
 "cells": [
  {
   "cell_type": "code",
   "execution_count": 1,
   "metadata": {},
   "outputs": [],
   "source": [
    "import pandas as pd\n",
    "import analyze as an\n",
    "\n",
    "# Enable module reloading\n",
    "%load_ext autoreload\n",
    "%autoreload 2"
   ]
  },
  {
   "cell_type": "code",
   "execution_count": 2,
   "metadata": {},
   "outputs": [],
   "source": [
    "ids, labels, relationships = an.load_data(\"./train/image_ids.csv\", \"./train/labels.csv\", \"./train/relationships.csv\")\n",
    "# ids, labels, relatinships = an.load_data(\"./test/image_ids.csv\", \"./test/labels.csv\", \"./test/relationships.csv\")"
   ]
  },
  {
   "cell_type": "code",
   "execution_count": 3,
   "metadata": {
    "scrolled": false
   },
   "outputs": [
    {
     "name": "stdout",
     "output_type": "stream",
     "text": [
      "number of images: 1743042\n",
      "number of label classes: 601\n",
      "average number of labels per image: 3.799230884855328\n",
      "top 10 classes: \n",
      "            Image count    Class name\n",
      "LabelName                            \n",
      "/m/01g317        807090        Person\n",
      "/m/09j2d         610840      Clothing\n",
      "/m/04yx4         378360           Man\n",
      "/m/0dzct         331942    Human face\n",
      "/m/07j7r         315026          Tree\n",
      "/m/05s2s         266978         Plant\n",
      "/m/03bt1vf       265791         Woman\n",
      "/m/07yv9         228351       Vehicle\n",
      "/m/0cgh4         183125      Building\n",
      "/m/01prls        165525  Land vehicle\n",
      "\n",
      "number of images with 1 label: 304075\n",
      "number of label classes: 597\n",
      "average number of labels per image: 1.0\n",
      "top 10 classes: \n",
      "           Image count Class name\n",
      "LabelName                        \n",
      "/m/07j7r         52405       Tree\n",
      "/m/01g317        30793     Person\n",
      "/m/0cgh4         28587   Building\n",
      "/m/05s2s         24950      Plant\n",
      "/m/02wbm         11355       Food\n",
      "/m/0c9ph5        10009     Flower\n",
      "/m/0d4v4          6391     Window\n",
      "/m/09j2d          6326   Clothing\n",
      "/m/0138tl         4352        Toy\n",
      "/m/07yv9          3818    Vehicle\n",
      "\n",
      "number of images with less than 3 label: 620284\n",
      "number of label classes: 601\n",
      "average number of labels per image: 1.5097810035403139\n",
      "top 10 classes: \n",
      "           Image count Class name\n",
      "LabelName                        \n",
      "/m/07j7r        137630       Tree\n",
      "/m/05s2s        115457      Plant\n",
      "/m/01g317        94136     Person\n",
      "/m/0cgh4         68815   Building\n",
      "/m/0c9ph5        39743     Flower\n",
      "/m/09j2d         34663   Clothing\n",
      "/m/02wbm         28930       Food\n",
      "/m/0jbk          28209     Animal\n",
      "/m/0d4v4         18528     Window\n",
      "/m/07yv9         16180    Vehicle\n",
      "\n",
      "number of images with less than 4 label: 925853\n",
      "number of label classes: 601\n",
      "average number of labels per image: 2.0016136470908448\n",
      "top 10 classes: \n",
      "           Image count Class name\n",
      "LabelName                        \n",
      "/m/01g317       205694     Person\n",
      "/m/07j7r        184860       Tree\n",
      "/m/05s2s        158361      Plant\n",
      "/m/0cgh4        106865   Building\n",
      "/m/09j2d        100710   Clothing\n",
      "/m/07yv9         72639    Vehicle\n",
      "/m/0jbk          68737     Animal\n",
      "/m/0c9ph5        52803     Flower\n",
      "/m/04yx4         46657        Man\n",
      "/m/02wbm         45173       Food\n"
     ]
    }
   ],
   "source": [
    "an.basic_analysis(ids, labels[labels['Confidence']==1], relationships)"
   ]
  },
  {
   "cell_type": "code",
   "execution_count": 18,
   "metadata": {},
   "outputs": [],
   "source": [
    "def get_image(label, df):\n",
    "    id_list = df[df['LabelName'] == label]['ImageID'].values\n",
    "    for i in range(len(id_list)):\n",
    "        print(id_list[i])\n",
    "        labs = [an.decode_class_name(i) for i in labels[(labels[\"ImageID\"] == id_list[i]) & (labels['Confidence'] == 1)]['LabelName'].values]\n",
    "        print(\"labels: \", labs)\n",
    "        yield an.show_image(ids,id_list[i], width=600)"
   ]
  },
  {
   "cell_type": "code",
   "execution_count": 19,
   "metadata": {},
   "outputs": [],
   "source": [
    "g = get_image('/m/01g317', labels[labels['Confidence']==1])"
   ]
  },
  {
   "cell_type": "code",
   "execution_count": 22,
   "metadata": {},
   "outputs": [
    {
     "name": "stdout",
     "output_type": "stream",
     "text": [
      "000004f4400f6ec5\n",
      "labels:  ['Human eye', 'Person', 'Shirt', 'Human mouth', 'Jacket', 'Human ear', 'Human hair', 'Human head', 'Mammal', 'Man', 'Clothing', 'Building', 'Human face', 'Human arm', 'Watch', 'Glasses', 'Human nose', 'Human hand']\n"
     ]
    },
    {
     "data": {
      "text/html": [
       "<img src=\"https://farm6.staticflickr.com/4126/5145819744_b4a7871064_o.jpg\" width=\"600\"/>"
      ],
      "text/plain": [
       "<IPython.core.display.Image object>"
      ]
     },
     "execution_count": 22,
     "metadata": {},
     "output_type": "execute_result"
    }
   ],
   "source": [
    "next(g)"
   ]
  }
 ],
 "metadata": {
  "kernelspec": {
   "display_name": "Python 3",
   "language": "python",
   "name": "python3"
  },
  "language_info": {
   "codemirror_mode": {
    "name": "ipython",
    "version": 3
   },
   "file_extension": ".py",
   "mimetype": "text/x-python",
   "name": "python",
   "nbconvert_exporter": "python",
   "pygments_lexer": "ipython3",
   "version": "3.6.8"
  }
 },
 "nbformat": 4,
 "nbformat_minor": 2
}
