{
 "cells": [
  {
   "cell_type": "code",
   "execution_count": 1,
   "metadata": {},
   "outputs": [],
   "source": [
    "import pandas as pd\n",
    "import numpy as np\n",
    "import sys\n",
    "sys.path.append(\"..\")\n",
    "from data import analyze as an\n",
    "from tensorflow.keras.preprocessing.image import ImageDataGenerator\n",
    "from PIL import Image\n",
    "import requests\n",
    "import cv2\n",
    "import io\n",
    "import category_encoders as ce\n",
    "\n",
    "from tensorflow.compat.v1 import ConfigProto\n",
    "from tensorflow.compat.v1 import InteractiveSession\n",
    "\n",
    "config = ConfigProto()\n",
    "config.gpu_options.allow_growth = True\n",
    "session = InteractiveSession(config=config)\n",
    "\n",
    "\n",
    "%matplotlib inline\n",
    "from matplotlib import pyplot as plt\n",
    "\n",
    "# Enable module reloading\n",
    "%load_ext autoreload\n",
    "%autoreload 2"
   ]
  },
  {
   "cell_type": "code",
   "execution_count": 4,
   "metadata": {},
   "outputs": [],
   "source": [
    "tr_ids, tr_labels, tr_relationships = an.load_data(\"../data/train/image_ids.csv\", \n",
    "                                                            \"../data/train/labels.csv\", \n",
    "                                                            \"../data/train/relationships.csv\")\n",
    "te_ids, te_labels, te_relationships = an.load_data(\"../data/test/image_ids.csv\", \n",
    "                                                         \"../data/test/labels.csv\", \n",
    "                                                         \"../data/test/relationships.csv\")\n",
    "val_ids, val_labels, val_relationships = an.load_data(\"../data/valid/image_ids.csv\", \n",
    "                                                         \"../data/valid/labels.csv\", \n",
    "                                                         \"../data/valid/relationships.csv\")"
   ]
  },
  {
   "cell_type": "code",
   "execution_count": 5,
   "metadata": {},
   "outputs": [],
   "source": [
    "top_labels1 = tr_relationships.groupby('LabelName1').count().sort_values('ImageID', ascending=False).head(10)['ImageID'].to_frame()"
   ]
  },
  {
   "cell_type": "code",
   "execution_count": 6,
   "metadata": {},
   "outputs": [],
   "source": [
    "top_labels2 = tr_relationships.groupby('LabelName2').count().sort_values('ImageID', ascending=False).head(10)['ImageID'].to_frame()"
   ]
  },
  {
   "cell_type": "code",
   "execution_count": 7,
   "metadata": {},
   "outputs": [],
   "source": [
    "for i in range(10):\n",
    "    if(top_labels2.index[i] in top_labels1.index):\n",
    "        top_labels1.loc[top_labels2.index[i]] += top_labels2.iloc[i].values[0]\n",
    "    else:\n",
    "        top_labels1 = top_labels1.append(top_labels2.iloc[i])"
   ]
  },
  {
   "cell_type": "code",
   "execution_count": 8,
   "metadata": {},
   "outputs": [],
   "source": [
    "top = top_labels1.head(10).index.values"
   ]
  },
  {
   "cell_type": "code",
   "execution_count": 10,
   "metadata": {},
   "outputs": [],
   "source": [
    "ids = tr_relationships[(tr_relationships['LabelName1'].isin(top)) & (tr_relationships['LabelName2'].isin(top))]['ImageID']"
   ]
  },
  {
   "cell_type": "code",
   "execution_count": 11,
   "metadata": {},
   "outputs": [],
   "source": [
    "image_ids = ids.unique()"
   ]
  },
  {
   "cell_type": "code",
   "execution_count": 12,
   "metadata": {},
   "outputs": [],
   "source": [
    "urls = tr_ids.loc[tr_ids['ImageID'].isin(image_ids)]['OriginalURL'].values"
   ]
  },
  {
   "cell_type": "code",
   "execution_count": 13,
   "metadata": {},
   "outputs": [],
   "source": [
    "g = an.image_array_generator(urls, tr_relationships, tr_ids, batch_size=50, resize=True, size=(20,20), normalize=True)"
   ]
  },
  {
   "cell_type": "code",
   "execution_count": 15,
   "metadata": {},
   "outputs": [
    {
     "name": "stdout",
     "output_type": "stream",
     "text": [
      "https://c3.staticflickr.com/9/8752/16821381540_e5a97a02a2_o.jpg\n",
      "https://farm6.staticflickr.com/206/521142381_20a1a278b7_o.jpg\n",
      "https://farm4.staticflickr.com/2872/9590312870_a22e790359_o.jpg\n",
      "https://c7.staticflickr.com/5/4072/4709163937_65680fb454_o.jpg\n",
      "https://c3.staticflickr.com/3/2013/5823183624_1233778860_o.jpg\n",
      "https://farm6.staticflickr.com/2664/3887372222_635b77a39d_o.jpg\n",
      "https://farm1.staticflickr.com/5568/14999922457_c94d7d119e_o.jpg\n",
      "https://farm4.staticflickr.com/118/303254232_10bd8ec91d_o.jpg\n"
     ]
    }
   ],
   "source": [
    "data = next(g)"
   ]
  },
  {
   "cell_type": "code",
   "execution_count": 19,
   "metadata": {},
   "outputs": [
    {
     "ename": "AttributeError",
     "evalue": "'list' object has no attribute 'shape'",
     "output_type": "error",
     "traceback": [
      "\u001b[0;31m---------------------------------------------------------------------------\u001b[0m",
      "\u001b[0;31mAttributeError\u001b[0m                            Traceback (most recent call last)",
      "\u001b[0;32m<ipython-input-19-1d84a69e9782>\u001b[0m in \u001b[0;36m<module>\u001b[0;34m\u001b[0m\n\u001b[0;32m----> 1\u001b[0;31m \u001b[0mdata\u001b[0m\u001b[0;34m[\u001b[0m\u001b[0;36m0\u001b[0m\u001b[0;34m]\u001b[0m\u001b[0;34m.\u001b[0m\u001b[0mshape\u001b[0m\u001b[0;34m\u001b[0m\u001b[0;34m\u001b[0m\u001b[0m\n\u001b[0m",
      "\u001b[0;31mAttributeError\u001b[0m: 'list' object has no attribute 'shape'"
     ]
    }
   ],
   "source": [
    "data[0].shape"
   ]
  },
  {
   "cell_type": "code",
   "execution_count": 2,
   "metadata": {},
   "outputs": [],
   "source": [
    "from src.models.c_dcgan import GANColor"
   ]
  },
  {
   "cell_type": "code",
   "execution_count": 3,
   "metadata": {},
   "outputs": [],
   "source": [
    "gan = GANColor((64, 64, 3))\n",
    "d_model = gan.discriminator\n",
    "g_model = gan.generator\n",
    "g_combined = gan.combined"
   ]
  },
  {
   "cell_type": "code",
   "execution_count": 6,
   "metadata": {},
   "outputs": [
    {
     "name": "stdout",
     "output_type": "stream",
     "text": [
      "Model: \"model_1\"\n",
      "__________________________________________________________________________________________________\n",
      "Layer (type)                    Output Shape         Param #     Connected to                     \n",
      "==================================================================================================\n",
      "input_4 (InputLayer)            [(None, 100)]        0                                            \n",
      "__________________________________________________________________________________________________\n",
      "input_3 (InputLayer)            [(None, 1)]          0                                            \n",
      "__________________________________________________________________________________________________\n",
      "dense_3 (Dense)                 (None, 16384)        1654784     input_4[0][0]                    \n",
      "__________________________________________________________________________________________________\n",
      "embedding_1 (Embedding)         (None, 1, 50)        500         input_3[0][0]                    \n",
      "__________________________________________________________________________________________________\n",
      "leaky_re_lu_2 (LeakyReLU)       (None, 16384)        0           dense_3[0][0]                    \n",
      "__________________________________________________________________________________________________\n",
      "dense_2 (Dense)                 (None, 1, 64)        3264        embedding_1[0][0]                \n",
      "__________________________________________________________________________________________________\n",
      "reshape_2 (Reshape)             (None, 8, 8, 256)    0           leaky_re_lu_2[0][0]              \n",
      "__________________________________________________________________________________________________\n",
      "reshape_1 (Reshape)             (None, 8, 8, 1)      0           dense_2[0][0]                    \n",
      "__________________________________________________________________________________________________\n",
      "concatenate_1 (Concatenate)     (None, 8, 8, 257)    0           reshape_2[0][0]                  \n",
      "                                                                 reshape_1[0][0]                  \n",
      "__________________________________________________________________________________________________\n",
      "conv2d_transpose (Conv2DTranspo (None, 16, 16, 256)  1052928     concatenate_1[0][0]              \n",
      "__________________________________________________________________________________________________\n",
      "leaky_re_lu_3 (LeakyReLU)       (None, 16, 16, 256)  0           conv2d_transpose[0][0]           \n",
      "__________________________________________________________________________________________________\n",
      "conv2d_transpose_1 (Conv2DTrans (None, 32, 32, 128)  524416      leaky_re_lu_3[0][0]              \n",
      "__________________________________________________________________________________________________\n",
      "leaky_re_lu_4 (LeakyReLU)       (None, 32, 32, 128)  0           conv2d_transpose_1[0][0]         \n",
      "__________________________________________________________________________________________________\n",
      "conv2d_transpose_2 (Conv2DTrans (None, 64, 64, 128)  262272      leaky_re_lu_4[0][0]              \n",
      "__________________________________________________________________________________________________\n",
      "leaky_re_lu_5 (LeakyReLU)       (None, 64, 64, 128)  0           conv2d_transpose_2[0][0]         \n",
      "__________________________________________________________________________________________________\n",
      "conv2d_2 (Conv2D)               (None, 64, 64, 3)    18819       leaky_re_lu_5[0][0]              \n",
      "==================================================================================================\n",
      "Total params: 3,516,983\n",
      "Trainable params: 3,516,983\n",
      "Non-trainable params: 0\n",
      "__________________________________________________________________________________________________\n"
     ]
    }
   ],
   "source": [
    "g_model.summary()"
   ]
  },
  {
   "cell_type": "code",
   "execution_count": 4,
   "metadata": {},
   "outputs": [],
   "source": [
    "from numpy.random import randint, randn\n",
    "def generate_fake_input(n_samples):\n",
    "    fake_labels = randint(0, 10, n_samples)\n",
    "    x_input = randn(100 * n_samples)\n",
    "    fake_noise = x_input.reshape(n_samples, 100)\n",
    "    return fake_noise, fake_labels"
   ]
  },
  {
   "cell_type": "code",
   "execution_count": 5,
   "metadata": {},
   "outputs": [
    {
     "name": "stdout",
     "output_type": "stream",
     "text": [
      "WARNING:tensorflow:Layer dense_3 is casting an input tensor from dtype float64 to the layer's dtype of float32, which is new behavior in TensorFlow 2.  The layer has dtype float32 because it's dtype defaults to floatx.\n",
      "\n",
      "If you intended to run this layer in float32, you can safely ignore this warning. If in doubt, this warning is likely only an issue if you are porting a TensorFlow 1.X model to TensorFlow 2.\n",
      "\n",
      "To change all layers to have dtype float64 by default, call `tf.keras.backend.set_floatx('float64')`. To change just this layer, pass dtype='float64' to the layer constructor. If you are the author of this layer, you can disable autocasting by passing autocast=False to the base Layer constructor.\n",
      "\n"
     ]
    },
    {
     "data": {
      "text/plain": [
       "<tf.Tensor: id=885, shape=(2, 64, 64, 3), dtype=float32, numpy=\n",
       "array([[[[ 3.17420694e-04, -8.02198367e-04,  1.09759148e-03],\n",
       "         [-3.50128184e-03, -1.32447004e-03, -3.07261781e-03],\n",
       "         [-3.09285661e-03,  3.34516051e-04, -1.22048543e-03],\n",
       "         ...,\n",
       "         [-1.45928643e-03, -8.13178252e-04,  9.46009182e-04],\n",
       "         [ 6.53895433e-04,  4.17382875e-03, -2.11518630e-03],\n",
       "         [ 1.25091011e-03, -2.30983205e-05, -6.35838427e-04]],\n",
       "\n",
       "        [[-6.89149238e-05, -4.90897393e-04, -4.19786200e-03],\n",
       "         [-2.77566537e-03, -3.53340036e-03,  2.08147825e-03],\n",
       "         [ 3.07131093e-04,  1.53481041e-03,  4.13418422e-03],\n",
       "         ...,\n",
       "         [-4.83352342e-04,  5.14837261e-03,  9.81787452e-04],\n",
       "         [-2.10956740e-03,  2.99285725e-03,  8.09827470e-04],\n",
       "         [ 5.36987151e-04,  8.80796579e-04,  1.57052802e-03]],\n",
       "\n",
       "        [[-2.02859263e-03,  2.26001861e-03, -2.26567546e-03],\n",
       "         [-2.27235048e-03, -3.57258553e-03,  2.46385066e-03],\n",
       "         [ 1.13541966e-04,  3.13177914e-03, -3.38984001e-03],\n",
       "         ...,\n",
       "         [-4.09446470e-03, -3.09987081e-05,  9.78455879e-04],\n",
       "         [-6.56266115e-04,  4.33957716e-03,  4.84706275e-03],\n",
       "         [ 5.22640476e-04,  1.26457703e-03, -1.44908903e-03]],\n",
       "\n",
       "        ...,\n",
       "\n",
       "        [[-8.37921514e-04,  2.03919667e-03, -1.27238221e-03],\n",
       "         [ 8.90968135e-04,  5.95706340e-04,  1.65456173e-03],\n",
       "         [ 6.42651226e-03,  2.77161505e-03, -3.30056180e-03],\n",
       "         ...,\n",
       "         [ 6.89367391e-03,  2.29291175e-03,  2.95135891e-03],\n",
       "         [ 2.08683941e-03, -5.96036436e-04, -2.68236827e-03],\n",
       "         [ 4.25156625e-03,  4.22061305e-04,  3.13362828e-03]],\n",
       "\n",
       "        [[-8.38077744e-04, -1.07183005e-03,  1.83408009e-03],\n",
       "         [-1.37561164e-03, -6.20228471e-04,  2.39881803e-03],\n",
       "         [-2.03640806e-03, -3.45491688e-03, -1.92807906e-03],\n",
       "         ...,\n",
       "         [-2.57144077e-03, -2.60888739e-03, -3.36455356e-04],\n",
       "         [-1.91386091e-03,  8.98797996e-04, -1.63966906e-03],\n",
       "         [ 1.69180823e-03, -1.82171306e-03, -4.05571598e-04]],\n",
       "\n",
       "        [[-1.44019583e-03,  3.46974732e-04, -1.50600809e-03],\n",
       "         [-8.03835748e-04,  9.18922713e-04, -1.52788917e-03],\n",
       "         [ 3.14287725e-03, -1.41684187e-03,  1.80566753e-03],\n",
       "         ...,\n",
       "         [ 1.56368874e-03,  3.60807939e-03,  5.75054204e-04],\n",
       "         [ 2.17033341e-03,  1.73078035e-03,  1.66755461e-03],\n",
       "         [ 9.42474580e-04,  2.30586273e-03,  1.84111515e-04]]],\n",
       "\n",
       "\n",
       "       [[[-1.59225397e-06,  1.95868639e-03,  1.45759853e-03],\n",
       "         [-1.70798437e-03, -1.26648135e-03, -1.09408097e-03],\n",
       "         [-3.77814146e-03, -3.26318113e-04, -3.18214676e-04],\n",
       "         ...,\n",
       "         [-4.85042995e-03, -5.80049306e-03,  4.30408446e-03],\n",
       "         [ 2.33894377e-03,  1.31761190e-03, -1.29931653e-03],\n",
       "         [ 1.11989572e-03,  2.28464743e-03, -3.70244903e-04]],\n",
       "\n",
       "        [[-6.72044407e-04, -1.17408892e-03, -1.38544687e-03],\n",
       "         [-2.66397838e-03, -1.69393013e-03,  3.47280549e-03],\n",
       "         [-3.06493160e-03,  6.03212090e-03,  2.38434807e-03],\n",
       "         ...,\n",
       "         [-5.11417352e-03,  1.01200596e-03,  1.59508525e-03],\n",
       "         [ 5.35774045e-04, -3.77337536e-04, -1.41356478e-03],\n",
       "         [-1.28089485e-03,  1.13591098e-03,  4.43777349e-03]],\n",
       "\n",
       "        [[-1.38271996e-03, -6.91043504e-04, -5.66003961e-04],\n",
       "         [-1.38428970e-03, -3.29978275e-03,  1.81829883e-03],\n",
       "         [-5.28456294e-04,  1.43732538e-03,  1.17338297e-03],\n",
       "         ...,\n",
       "         [-3.38807609e-03, -1.59660389e-03,  1.49990607e-03],\n",
       "         [-1.33438176e-03,  6.91904686e-03,  2.71406234e-03],\n",
       "         [ 1.52010459e-03,  5.38337626e-04, -2.05230759e-03]],\n",
       "\n",
       "        ...,\n",
       "\n",
       "        [[ 2.53994809e-03,  1.30923546e-03,  5.40044100e-04],\n",
       "         [-1.18059933e-03,  3.41552775e-03,  2.93831923e-03],\n",
       "         [ 1.33544754e-03,  2.75708199e-03, -5.21645928e-03],\n",
       "         ...,\n",
       "         [ 1.56001037e-03,  5.35759318e-04, -4.17466334e-04],\n",
       "         [ 3.86644504e-03,  1.11324713e-03, -1.42739573e-03],\n",
       "         [-1.16947856e-04, -1.38001353e-03,  1.05335889e-03]],\n",
       "\n",
       "        [[-1.10207580e-03, -2.50021578e-03,  7.84117612e-04],\n",
       "         [-5.74142532e-03,  1.15867195e-04,  3.80575820e-03],\n",
       "         [ 7.70806277e-04, -1.43266702e-03,  1.90536934e-03],\n",
       "         ...,\n",
       "         [-1.66602564e-04, -4.43591969e-03, -1.73345127e-03],\n",
       "         [-8.67815615e-05,  2.18281499e-03, -1.52751605e-03],\n",
       "         [-8.23647424e-04,  2.52220925e-04,  3.02871136e-04]],\n",
       "\n",
       "        [[-1.73372927e-03, -1.40902994e-03, -2.19054846e-03],\n",
       "         [ 3.09533789e-04,  6.49230380e-04, -9.86775151e-04],\n",
       "         [ 4.70945472e-03, -1.58965224e-04, -1.05359213e-04],\n",
       "         ...,\n",
       "         [ 1.59838423e-03,  3.31748580e-03,  1.20160752e-03],\n",
       "         [-8.40221692e-05,  2.08102865e-03,  8.31401194e-05],\n",
       "         [-5.09756443e-04,  2.36822059e-03,  1.17499533e-03]]]],\n",
       "      dtype=float32)>"
      ]
     },
     "execution_count": 5,
     "metadata": {},
     "output_type": "execute_result"
    }
   ],
   "source": [
    "g_model(generate_fake_input(2))"
   ]
  },
  {
   "cell_type": "code",
   "execution_count": 11,
   "metadata": {},
   "outputs": [
    {
     "data": {
      "text/plain": [
       "<matplotlib.image.AxesImage at 0x7fc5b80521d0>"
      ]
     },
     "execution_count": 11,
     "metadata": {},
     "output_type": "execute_result"
    },
    {
     "data": {
      "image/png": "[encoded data removed]",
      "text/plain": [
       "<Figure size 216x216 with 1 Axes>"
      ]
     },
     "metadata": {
      "needs_background": "light"
     },
     "output_type": "display_data"
    }
   ],
   "source": [
    "import tensorflow as tf\n",
    "plt.rcParams[\"figure.figsize\"] = (3,3)\n",
    "noise = tf.random.normal([2, 100])\n",
    "noise, labels = generate_fake_input(2)\n",
    "generated_image = g_model((noise, label))\n",
    "plt.imshow(generated_image[0, :, :, 0], cmap='gray')"
   ]
  },
  {
   "cell_type": "code",
   "execution_count": 12,
   "metadata": {},
   "outputs": [
    {
     "data": {
      "text/plain": [
       "<tf.Tensor: id=1329, shape=(2, 1), dtype=float32, numpy=\n",
       "array([[0.49980766],\n",
       "       [0.49996495]], dtype=float32)>"
      ]
     },
     "execution_count": 12,
     "metadata": {},
     "output_type": "execute_result"
    }
   ],
   "source": [
    "d_model((generated_image,labels))"
   ]
  },
  {
   "cell_type": "code",
   "execution_count": 13,
   "metadata": {},
   "outputs": [
    {
     "data": {
      "text/plain": [
       "<tf.Tensor: id=1488, shape=(2, 1), dtype=float32, numpy=\n",
       "array([[0.49996656],\n",
       "       [0.4999987 ]], dtype=float32)>"
      ]
     },
     "execution_count": 13,
     "metadata": {},
     "output_type": "execute_result"
    }
   ],
   "source": [
    "g_combined((noise, label))"
   ]
  },
  {
   "cell_type": "code",
   "execution_count": null,
   "metadata": {},
   "outputs": [],
   "source": []
  }
 ],
 "metadata": {
  "kernelspec": {
   "display_name": "Python 3",
   "language": "python",
   "name": "python3"
  },
  "language_info": {
   "codemirror_mode": {
    "name": "ipython",
    "version": 3
   },
   "file_extension": ".py",
   "mimetype": "text/x-python",
   "name": "python",
   "nbconvert_exporter": "python",
   "pygments_lexer": "ipython3",
   "version": "3.6.8"
  }
 },
 "nbformat": 4,
 "nbformat_minor": 2
}
